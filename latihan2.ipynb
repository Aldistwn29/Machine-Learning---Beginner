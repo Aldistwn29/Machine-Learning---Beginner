{
 "cells": [
  {
   "cell_type": "code",
   "execution_count": 1,
   "metadata": {},
   "outputs": [],
   "source": [
    "import ipywidgets as widgets\n",
    "from IPython.display import display\n",
    "import plotly.graph_objects as go\n",
    "import plotly.express as px\n",
    "import pandas as pd"
   ]
  },
  {
   "cell_type": "code",
   "execution_count": 2,
   "metadata": {},
   "outputs": [],
   "source": [
    "# Contoh membuat DataFrame sederhana\n",
    "df = pd.DataFrame({\n",
    "    'Kategori': ['A', 'B', 'C', 'D'],\n",
    "    'Nilai': [10, 15, 13, 17]\n",
    "})"
   ]
  },
  {
   "cell_type": "code",
   "execution_count": 3,
   "metadata": {},
   "outputs": [],
   "source": [
    "def plot_data(kategori):\n",
    "    filtered_df = df[df['Kategori'] == kategori]\n",
    "    fig = px.bar(filtered_df, x='Kategori', y='Nilai', title=f'Nilai untuk Kategori {kategori}')\n",
    "    fig.show()"
   ]
  },
  {
   "cell_type": "code",
   "execution_count": 8,
   "metadata": {},
   "outputs": [
    {
     "data": {
      "application/vnd.jupyter.widget-view+json": {
       "model_id": "834f8450f8c64616a7375e894bde2ab7",
       "version_major": 2,
       "version_minor": 0
      },
      "text/plain": [
       "interactive(children=(Dropdown(description='Kategori:', options=('A', 'B', 'C', 'D'), value='A'), Output()), _…"
      ]
     },
     "execution_count": 8,
     "metadata": {},
     "output_type": "execute_result"
    }
   ],
   "source": [
    "kategori_dropdown = widgets.Dropdown(\n",
    "    options=df['Kategori'].unique(),\n",
    "    value=df['Kategori'].unique()[0],\n",
    "    description='Kategori:',\n",
    ")\n",
    "\n",
    "widgets.interactive(plot_data, kategori=kategori_dropdown)"
   ]
  }
 ],
 "metadata": {
  "kernelspec": {
   "display_name": "myenv",
   "language": "python",
   "name": "python3"
  },
  "language_info": {
   "codemirror_mode": {
    "name": "ipython",
    "version": 3
   },
   "file_extension": ".py",
   "mimetype": "text/x-python",
   "name": "python",
   "nbconvert_exporter": "python",
   "pygments_lexer": "ipython3",
   "version": "3.11.5"
  }
 },
 "nbformat": 4,
 "nbformat_minor": 2
}
